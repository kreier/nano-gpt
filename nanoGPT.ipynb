{
  "nbformat": 4,
  "nbformat_minor": 0,
  "metadata": {
    "colab": {
      "provenance": [],
      "gpuType": "T4"
    },
    "kernelspec": {
      "name": "python3",
      "display_name": "Python 3"
    },
    "language_info": {
      "name": "python"
    },
    "accelerator": "GPU"
  },
  "cells": [
    {
      "cell_type": "markdown",
      "source": [
        "# Try nanoGPT in a Jupyter Notebook\n",
        "\n",
        "It is straight forward explained by Andrej Karpathy in his video, so I'll give it a try. First let's install all the modules."
      ],
      "metadata": {
        "id": "yQ7ubAib_fZv"
      }
    },
    {
      "cell_type": "code",
      "source": [
        "!pip install torch numpy transformers datasets tiktoken wandb tqdm"
      ],
      "metadata": {
        "id": "-NZZdZhF_d9V"
      },
      "execution_count": null,
      "outputs": []
    },
    {
      "cell_type": "code",
      "source": [
        "!git clone https://github.com/karpathy/nanogpt"
      ],
      "metadata": {
        "colab": {
          "base_uri": "https://localhost:8080/"
        },
        "id": "IMA54IZ4AQhf",
        "outputId": "7fe6df3d-1643-4b9d-d669-df80c2c38adb"
      },
      "execution_count": null,
      "outputs": [
        {
          "output_type": "stream",
          "name": "stdout",
          "text": [
            "Cloning into 'nanogpt'...\n",
            "remote: Enumerating objects: 682, done.\u001b[K\n",
            "remote: Total 682 (delta 0), reused 0 (delta 0), pack-reused 682\u001b[K\n",
            "Receiving objects: 100% (682/682), 952.47 KiB | 19.84 MiB/s, done.\n",
            "Resolving deltas: 100% (385/385), done.\n"
          ]
        }
      ]
    },
    {
      "cell_type": "code",
      "source": [
        "%cd nanogpt"
      ],
      "metadata": {
        "colab": {
          "base_uri": "https://localhost:8080/"
        },
        "id": "mJryvlMkAXP0",
        "outputId": "f80be1dc-9d57-463e-838a-27cc42489e0b"
      },
      "execution_count": null,
      "outputs": [
        {
          "output_type": "stream",
          "name": "stdout",
          "text": [
            "/content/nanogpt\n"
          ]
        }
      ]
    },
    {
      "cell_type": "code",
      "source": [
        "!python data/shakespeare_char/prepare.py"
      ],
      "metadata": {
        "colab": {
          "base_uri": "https://localhost:8080/"
        },
        "id": "_nzlCTWSAaom",
        "outputId": "9ac4f13d-9077-47ce-bb6f-2e5c49daaf8f"
      },
      "execution_count": null,
      "outputs": [
        {
          "output_type": "stream",
          "name": "stdout",
          "text": [
            "length of dataset in characters: 1,115,394\n",
            "all the unique characters: \n",
            " !$&',-.3:;?ABCDEFGHIJKLMNOPQRSTUVWXYZabcdefghijklmnopqrstuvwxyz\n",
            "vocab size: 65\n",
            "train has 1,003,854 tokens\n",
            "val has 111,540 tokens\n"
          ]
        }
      ]
    },
    {
      "cell_type": "markdown",
      "source": [
        "## Error with T4 GPU\n",
        "\n",
        "In order to have the Triton compiler running you have to change the train.py. Add these two lines:\n",
        "\n",
        "``` python\n",
        "import torch._dynamo\n",
        "torch._dynamo.config.suppress_errors = True\n",
        "```\n",
        "\n",
        "It still threw a lot of errors, but the Triton compiler compiled regardless. After a little more than an hour the model is trained."
      ],
      "metadata": {
        "id": "QDt6_bYdtNX4"
      }
    },
    {
      "cell_type": "code",
      "source": [
        "!python train.py config/train_shakespeare_char.py"
      ],
      "metadata": {
        "id": "LZoxc7MSB6-b"
      },
      "execution_count": null,
      "outputs": []
    },
    {
      "cell_type": "markdown",
      "source": [
        "This took 1h 8m 4s on 2024/07/29 and the T4 runtime. GPU RAM went up to 2.9 GB/15 GB, RAM to 3 GB.\n",
        "\n",
        "Start:\n",
        "```\n",
        "step 0: train loss 4.2874, val loss 4.2823\n",
        "iter 0: loss 4.2663, time 88620.85ms, mfu -100.00%\n",
        "iter 10: loss 3.2415, time 527.00ms, mfu 0.71%\n",
        "iter 20: loss 2.7773, time 528.23ms, mfu 0.71%\n",
        "```\n",
        "\n",
        "Result:\n",
        "```\n",
        "step 5000: train loss 0.6232, val loss 1.7158\n",
        "iter 5000: loss 0.8169, time 70561.92ms, mfu 0.64%\n",
        "```\n",
        "\n",
        "The time per iteration is rather constant at 520 ms on the T4 GPU with 16 GB, so the total estimated time for 5000 iterations should be:"
      ],
      "metadata": {
        "id": "W0nAodtJS-Sf"
      }
    },
    {
      "cell_type": "code",
      "source": [
        "cycle_time = 520e-3\n",
        "time_s = 5000 * cycle_time\n",
        "time_m = time_s / 60\n",
        "time_h = time_m / 60\n",
        "print(f\"The estimated time is {int(time_s)} seconds or about {int(time_m)} minutes.\")"
      ],
      "metadata": {
        "colab": {
          "base_uri": "https://localhost:8080/"
        },
        "id": "zpBEVRR3T1XT",
        "outputId": "21b8f5ef-86cf-444f-efc1-ebcfc408fd87"
      },
      "execution_count": null,
      "outputs": [
        {
          "output_type": "stream",
          "name": "stdout",
          "text": [
            "The estimated time is 2600 seconds or about 43 minutes.\n"
          ]
        }
      ]
    },
    {
      "cell_type": "markdown",
      "source": [
        "Here you have it. Estimated time is 43 minutes. But each 250 steps we get another evaluation of the last steps that takes about 1 minutes. These 20 extra steps need 20 minutes. And the initial compile throws some errors, we had to add two lines to the train.py:\n",
        "\n",
        "``` python\n",
        "import torch._dynamo\n",
        "torch._dynamo.config.suppress_errors = True\n",
        "```\n",
        "\n",
        "It still threw a lot of errors, but the Triton compiler compiled regardless. Some of the error messages are:\n",
        "\n",
        "``` sh\n",
        "compiling the model... (takes a ~minute)\n",
        "torch/_dynamo/convert_frame.py:824] WON'T CONVERT forward /content/nanogpt/model.py line 170\n",
        "torch/_dynamo/convert_frame.py:824] due to:\n",
        "torch/_dynamo/convert_frame.py:824] Traceback (most recent call last):\n",
        "torch._dynamo.exc.BackendCompilerFailed: backend='inductor' raised:\n",
        "RuntimeError: Internal Triton PTX codegen error:\n",
        "ptxas /tmp/compile-ptx-src-0254d7, line 636; error   : Feature '.bf16' requires .target sm_80 or higher\n",
        "ptxas /tmp/compile-ptx-src-0254d7, line 636; error   : Feature 'cvt.bf16.f32' requires .target sm_80 or higher\n",
        "ptxas /tmp/compile-ptx-src-0254d7, line 638; error   : Feature '.bf16' requires .target sm_80 or higher\n",
        "ptxas /tmp/compile-ptx-src-0254d7, line 638; error   : Feature 'cvt.bf16.f32' requires .target sm_80 or higher\n",
        "ptxas /tmp/compile-ptx-src-0254d7, line 640; error   : Feature '.bf16' requires .target sm_80 or higher\n",
        "ptxas /tmp/compile-ptx-src-0254d7, line 640; error   : Feature 'cvt.bf16.f32' requires .target sm_80 or higher\n",
        "ptxas /tmp/compile-ptx-src-0254d7, line 642; error   : Feature '.bf16' requires .target sm_80 or higher\n",
        "ptxas /tmp/compile-ptx-src-0254d7, line 642; error   : Feature 'cvt.bf16.f32' requires .target sm_80 or higher\n",
        "ptxas fatal   : Ptx assembly aborted due to errors\n",
        "```"
      ],
      "metadata": {
        "id": "QNwb--LeU3_P"
      }
    },
    {
      "cell_type": "code",
      "source": [
        "!python sample.py --out_dir=out-shakespeare-char"
      ],
      "metadata": {
        "colab": {
          "base_uri": "https://localhost:8080/"
        },
        "id": "k1r-LyLWU5x5",
        "outputId": "22467c6c-25c9-4cb7-9abc-cdf2e9bdfb96"
      },
      "execution_count": null,
      "outputs": [
        {
          "output_type": "stream",
          "name": "stdout",
          "text": [
            "Overriding: out_dir = out-shakespeare-char\n",
            "number of parameters: 10.65M\n",
            "Loading meta from data/shakespeare_char/meta.pkl...\n",
            "\n",
            "\n",
            "Clown:\n",
            "So, who is her lady?\n",
            "\n",
            "AUTOLYCUS:\n",
            "A man and raze the gates start that us are very redelieved,\n",
            "and that then and more than what they are but mildly;\n",
            "and their eyes against the clutchyard, and now arms\n",
            "To be pelish to the tenther death.\n",
            "\n",
            "AUTOLYCUS:\n",
            "What manners? nor of this death?\n",
            "\n",
            "Clown:\n",
            "Be not only so what evils? what thou wilt not denies?--\n",
            "\n",
            "AUTOLYCUS:\n",
            "Nor I thrust the prince to shame to all of me;\n",
            "For I do with the house of the same advance.\n",
            "\n",
            "Clown:\n",
            "To help Marcius, Coriolanus!\n",
            "\n",
            "VIRGILI\n",
            "---------------\n",
            "\n",
            "Men please your grace and given home.\n",
            "\n",
            "LUCIO:\n",
            "Well, sir, we will not have been so no well one.\n",
            "\n",
            "DUKE VINCENTIO:\n",
            "Do you but think you? peace, sir?\n",
            "\n",
            "ISABELLA:\n",
            "I take your cousin, if you throw the utmost of your cast:\n",
            "I content; and now I will die to some court-probation. Have\n",
            "your will serve your lordship stops to the right\n",
            "From Irely in his unbrother's noble stout\n",
            "To the opinious steedness. O my good protectors!\n",
            "\n",
            "CORIOLANUS:\n",
            "Alas, well!\n",
            "\n",
            "CORIOLANUS:\n",
            "For this matter, the old ten them! So the good \n",
            "---------------\n",
            "\n",
            "MARIANA:\n",
            "I beseech you, I would were you thank your princess;\n",
            "But we have born you, sir, we say, you know whipp'd.\n",
            "\n",
            "GREMIO:\n",
            "O, my lord, I do change your heart.\n",
            "\n",
            "GRIMIO:\n",
            "Take your lord, fie! we are keep you a warrant.\n",
            "\n",
            "DUKE VINCENTIO:\n",
            "How now! what I did; but you are ill! where Nederitano?\n",
            "\n",
            "Provost:\n",
            "How doth a deed worthy for her hand, I speak it in stand,\n",
            "And true that the noble harsh servant of her hell.\n",
            "\n",
            "DUKE VINCENTIO:\n",
            "I never were an earth may be consent.\n",
            "\n",
            "Provost:\n",
            "Worthy Margaret, what they\n",
            "---------------\n",
            "\n",
            "The shore of your knee,--\n",
            "\n",
            "MENENIUS:\n",
            "First, thou art as a man a threatening cannot see his rare,\n",
            "That can be cannot stars.\n",
            "\n",
            "SICINIUS:\n",
            "Thou hadst so much no executioner.\n",
            "\n",
            "SICINIUS:\n",
            "To fight them as thought this senators,\n",
            "And then they will not see that he crack him to our tent,\n",
            "As look the unto the world's opposed of all proportion:\n",
            "And like he hath forgeth to the air with an old hurl,\n",
            "Proud out of grief sound, and brave the standaring Rutland,\n",
            "And with his bed, which now his other he would have \n",
            "---------------\n",
            "\n",
            "That lack old spurning of thy bosoms, to grow\n",
            "Thy most careful to give up thy hands.\n",
            "\n",
            "EDWARD:\n",
            "True, which, what says the land of Oxford,\n",
            "And that those moody soon in this decree?\n",
            "\n",
            "BONA:\n",
            "Commend mortal worshions than the glory that ne'er doth more:\n",
            "Then now inclined, nor then untimely to take\n",
            "The people's here comfort than thus in his sound armission.\n",
            "We have mad my son, that I do thou abhort my knees;\n",
            "But here will be my old countryman's soul,\n",
            "Have all my jest deceit of fury sin.\n",
            "\n",
            "PERDITA:\n",
            "I hop\n",
            "---------------\n",
            "\n",
            "\n",
            "MENENIUS:\n",
            "He is the contrary of Bohemia, he would not\n",
            "say your particular to the change.\n",
            "\n",
            "First Citizen:\n",
            "He has not the officer: he hath cramped thee of\n",
            "noble soldier in her pastime. But it good close in night\n",
            "to me of the point.\n",
            "\n",
            "CORIOLANUS:\n",
            "A sir, that's something:\n",
            "May be some place other to remain: how a servant payer\n",
            "That wolvishes of my beauty in the servant of Rome!\n",
            "\n",
            "CORIOLANUS:\n",
            "How now! who promised him in! he would be cried?\n",
            "And how the search of his shepherd, which the higherd\n",
            "Which pl\n",
            "---------------\n",
            "\n",
            "Shall you be made from the world with her chequence.\n",
            "\n",
            "ESCALUS:\n",
            "My lord, why, then?\n",
            "\n",
            "DUKE VINCENTIO:\n",
            "Sir, I know you will pronounce to some other last,\n",
            "Be patient at hand one your requestion,\n",
            "And these stand for sleep to your pupilos yourself:\n",
            "As when you change up your queen assistions the world\n",
            "Makes your springs and destrain all to all the tale\n",
            "Could troublets, down with the kind with a blocky low woman.\n",
            "But, let me see the prince both prophecy to go along.\n",
            "\n",
            "BENVOLIO:\n",
            "Ay, let me see the people\n",
            "---------------\n",
            "\n",
            "lady, who does our name? here's the house,\n",
            "Angelo there, and not the part of the east,\n",
            "And the very bows of the heavy were writing,\n",
            "And, bestruck'd by mine and ambitradel\n",
            "Have been to action. For I have forgot\n",
            "My heart of my appearing grace: therefore, it is but\n",
            "To strength this distisbins report, to the woman\n",
            "Which nature once!\n",
            "\n",
            "First Gentleman:\n",
            "Tybalt thy hath tune that did make thee words that exeduced counsel\n",
            "In thy wife and burning. He cannot challenge,\n",
            "Would not wime against the wind of th\n",
            "---------------\n",
            "\n",
            "\n",
            "LEONTES:\n",
            "The realm and he hath sway'd your country's heir,\n",
            "And for such valiant was present; so swear\n",
            "Remote strains half scrift a soldier is Angelo,\n",
            "Strange in his bones; borrow I shall not denies,\n",
            "His brother my soul, were my ancient from the grace\n",
            "Of cracks and ungoble soul.\n",
            "\n",
            "AUTOLYCUS:\n",
            "Tell him that I name\n",
            "Your father does as he life grow.\n",
            "\n",
            "AUTOLYCUS:\n",
            "\n",
            "AUTOLYCUS:\n",
            "I will stay you, sir, we have none to be so good of truth:\n",
            "Therefore the hate at supply up.\n",
            "\n",
            "Clown:\n",
            "Come, my soul.\n",
            "\n",
            "AUTOLYCUS:\n",
            "Si\n",
            "---------------\n",
            "\n",
            "Her chance is as resolved himself\n",
            "And spoil, I warrant the earl of joy\n",
            "And shall their land argue that their countrys in his\n",
            "slavish to thine. Show me to properful majesty\n",
            "For harder of this souls against him with his sheet\n",
            "And over-ballable: who should have a little next\n",
            "That their sight be upon her happy mouths?\n",
            "\n",
            "Servant:\n",
            "And so high I hope that forget me of her wrath blood,\n",
            "Nor will she commit to the lap of my sweet intent,\n",
            "Ere I mock'd sorrow as to breath it, to present;\n",
            "And only distrument,\n",
            "---------------\n"
          ]
        }
      ]
    },
    {
      "cell_type": "markdown",
      "source": [
        "This is phantastic! And all done in the cloud!"
      ],
      "metadata": {
        "id": "r-sCS7maXJaa"
      }
    }
  ]
}